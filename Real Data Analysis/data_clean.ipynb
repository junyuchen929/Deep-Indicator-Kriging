{
 "cells": [
  {
   "cell_type": "code",
   "execution_count": 1,
   "id": "f8779ba8",
   "metadata": {},
   "outputs": [],
   "source": [
    "import pandas as pd"
   ]
  },
  {
   "cell_type": "code",
   "execution_count": 2,
   "id": "cbcd29f5",
   "metadata": {},
   "outputs": [
    {
     "name": "stderr",
     "output_type": "stream",
     "text": [
      "/var/folders/9n/7bxqt9q92tl6lchpfwnymvjh0000gn/T/ipykernel_5704/256820174.py:2: DtypeWarning: Columns (13) have mixed types. Specify dtype option on import or set low_memory=False.\n",
      "  df = pd.read_csv(\"Gold.csv\",sep = \",\")\n"
     ]
    }
   ],
   "source": [
    "# Gold\n",
    "df = pd.read_csv(\"Gold.csv\",sep = \",\")\n",
    "df['Date Local'] = pd.to_datetime(df['Date Local'], errors='coerce')\n",
    "df_jan = df[(df['Date Local'] >= '2019-01-01') & (df['Date Local'] <= '2019-01-31')]\n",
    "df_jan = df_jan[['Latitude', 'Longitude', 'AQI']]\n",
    "df_avg = df_jan.groupby(['Latitude', 'Longitude'], as_index=False).mean()\n",
    "df_avg.to_csv(\"Gold_clean.csv\", index=False)"
   ]
  },
  {
   "cell_type": "code",
   "execution_count": 3,
   "id": "31ea6814",
   "metadata": {},
   "outputs": [
    {
     "name": "stderr",
     "output_type": "stream",
     "text": [
      "/var/folders/9n/7bxqt9q92tl6lchpfwnymvjh0000gn/T/ipykernel_5704/3912202928.py:2: DtypeWarning: Columns (2,3,4,5,7,8,9,10,11,12,13,14,15,16,17,18,19,20,21,22,23,24,25) have mixed types. Specify dtype option on import or set low_memory=False.\n",
      "  df3 = pd.read_csv(\"CMAQ.csv\", skiprows=2)\n"
     ]
    }
   ],
   "source": [
    "#CMAQ\n",
    "df3 = pd.read_csv(\"CMAQ.csv\", skiprows=2)\n",
    "df3 = df3.iloc[1:]\n",
    "df4 = df3[['latitude', 'longitude', 'PM25_AVG']].copy()\n",
    "df4['latitude'] = pd.to_numeric(df4['latitude'], errors='coerce').round(6)\n",
    "df4['longitude'] = pd.to_numeric(df4['longitude'], errors='coerce').round(6)\n",
    "df4['PM25_AVG'] = pd.to_numeric(df4['PM25_AVG'], errors='coerce')\n",
    "df_avg2 = df4.groupby(['latitude', 'longitude'], as_index=False).mean()\n",
    "df_avg2.to_csv(\"CMAQ_clean.csv\", index=False)"
   ]
  },
  {
   "cell_type": "code",
   "execution_count": 27,
   "id": "ac3ab144",
   "metadata": {},
   "outputs": [],
   "source": [
    "# Get CVS1: \n",
    "# This is U2 Part (about 1000 data) si, Z1 and closest uj and Z2\n",
    "import pandas as pd\n",
    "import numpy as np\n",
    "from sklearn.neighbors import NearestNeighbors\n",
    "\n",
    "# Load and rename\n",
    "df_gold = pd.read_csv(\"Gold_clean.csv\")\n",
    "df_cmaq = pd.read_csv(\"CMAQ_clean.csv\")\n",
    "\n",
    "df_gold = df_gold.rename(columns={'Latitude': 'si_lat', 'Longitude': 'si_lon', 'AQI': 'Z1'})\n",
    "df_cmaq = df_cmaq.rename(columns={'latitude': 'uj_lat', 'longitude': 'uj_lon', 'PM25_AVG': 'Z2'})\n",
    "\n",
    "# Round coordinates to avoid float precision issues\n",
    "df_gold['si_lat'] = df_gold['si_lat'].round(5)\n",
    "df_gold['si_lon'] = df_gold['si_lon'].round(5)\n",
    "df_cmaq['uj_lat'] = df_cmaq['uj_lat'].round(5)\n",
    "df_cmaq['uj_lon'] = df_cmaq['uj_lon'].round(5)\n",
    "\n",
    "# Prepare for NearestNeighbor\n",
    "X_gold = df_gold[['si_lat', 'si_lon']].to_numpy()\n",
    "X_cmaq = df_cmaq[['uj_lat', 'uj_lon']].to_numpy()\n",
    "\n",
    "# Find nearest uj for each si\n",
    "nbrs = NearestNeighbors(n_neighbors=1, algorithm='ball_tree')\n",
    "nbrs.fit(X_cmaq)\n",
    "distances, indices = nbrs.kneighbors(X_gold)\n",
    "\n",
    "# Get nearest Z2\n",
    "nearest_cmaq = df_cmaq.iloc[indices.flatten()].reset_index(drop=True)\n",
    "df_gold_reset = df_gold.reset_index(drop=True)\n",
    "\n",
    "# Merge and round again just in case\n",
    "df_matched = pd.concat([df_gold_reset, nearest_cmaq], axis=1)\n",
    "df_matched[['uj_lat', 'uj_lon']] = df_matched[['uj_lat', 'uj_lon']].round(5)\n",
    "\n",
    "# Final output\n",
    "df_csv1 = df_matched[['si_lat', 'si_lon', 'uj_lat', 'uj_lon', 'Z1', 'Z2']]\n"
   ]
  },
  {
   "cell_type": "code",
   "execution_count": 35,
   "id": "9aff1661",
   "metadata": {},
   "outputs": [],
   "source": [
    "# sometimes one uj corresponds to multiple si\n",
    "df_csv1_grouped = df_matched.groupby(['uj_lat', 'uj_lon', 'Z2'], as_index=False)['Z1'].mean()\n",
    "\n",
    "df_csv1_grouped.to_csv(\"CSV1.csv\", index=False)"
   ]
  },
  {
   "cell_type": "code",
   "execution_count": 28,
   "id": "0ec0f486",
   "metadata": {},
   "outputs": [],
   "source": [
    "# U1/U2: CSV2\n",
    "df_cmaq = pd.read_csv(\"CMAQ_clean.csv\")\n",
    "df_cmaq = df_cmaq.rename(columns={'latitude': 'uj_lat', 'longitude': 'uj_lon', 'PM25_AVG': 'Z2'})\n",
    "df_csv1 = pd.read_csv(\"CSV1.csv\")\n",
    "\n",
    "df_cmaq['uj_lat'] = df_cmaq['uj_lat'].round(5)\n",
    "df_cmaq['uj_lon'] = df_cmaq['uj_lon'].round(5)\n",
    "df_csv1['uj_lat'] = df_csv1['uj_lat'].round(5)\n",
    "df_csv1['uj_lon'] = df_csv1['uj_lon'].round(5)\n",
    "\n",
    "df_cmaq_unique = df_cmaq.drop_duplicates(subset=['uj_lat', 'uj_lon'])\n",
    "df_csv1_unique = df_csv1[['uj_lat', 'uj_lon']].drop_duplicates()\n",
    "\n",
    "df_unmatched = df_cmaq_unique.merge(\n",
    "    df_csv1_unique,\n",
    "    on=['uj_lat', 'uj_lon'],\n",
    "    how='left',\n",
    "    indicator=True\n",
    ")\n",
    "\n",
    "df_unmatched = df_unmatched[df_unmatched['_merge'] == 'left_only'].drop(columns=['_merge'])\n",
    "\n",
    "df_unmatched.to_csv(\"CSV2.csv\", index=False)\n",
    "\n"
   ]
  },
  {
   "cell_type": "code",
   "execution_count": 36,
   "id": "c3f8a6b1",
   "metadata": {},
   "outputs": [
    {
     "data": {
      "text/plain": [
       "137241"
      ]
     },
     "execution_count": 36,
     "metadata": {},
     "output_type": "execute_result"
    }
   ],
   "source": [
    "len(df_cmaq)"
   ]
  },
  {
   "cell_type": "code",
   "execution_count": 37,
   "id": "3b018399",
   "metadata": {},
   "outputs": [
    {
     "data": {
      "text/plain": [
       "847"
      ]
     },
     "execution_count": 37,
     "metadata": {},
     "output_type": "execute_result"
    }
   ],
   "source": [
    "len(df_csv1_grouped) "
   ]
  },
  {
   "cell_type": "code",
   "execution_count": 38,
   "id": "e4ba0a4c",
   "metadata": {},
   "outputs": [
    {
     "data": {
      "text/plain": [
       "136394"
      ]
     },
     "execution_count": 38,
     "metadata": {},
     "output_type": "execute_result"
    }
   ],
   "source": [
    "len(df_unmatched)"
   ]
  },
  {
   "cell_type": "code",
   "execution_count": 40,
   "id": "ce8caa7c",
   "metadata": {},
   "outputs": [
    {
     "data": {
      "text/plain": [
       "137241"
      ]
     },
     "execution_count": 40,
     "metadata": {},
     "output_type": "execute_result"
    }
   ],
   "source": [
    "len(df_csv1_grouped)+len(df_unmatched)"
   ]
  },
  {
   "cell_type": "code",
   "execution_count": 34,
   "id": "d2ba230c",
   "metadata": {},
   "outputs": [
    {
     "name": "stdout",
     "output_type": "stream",
     "text": [
      "✅ Passed: CSV2 does not contain any uj points from CSV1. The split is correct.\n"
     ]
    }
   ],
   "source": [
    "#Sanity check - make sure CSV2 doesn't contain any uj points from CSV1 (it shouldn't)\n",
    "df_csv2 = df_unmatched.copy()\n",
    "df_csv2[['uj_lat', 'uj_lon']] = df_csv2[['uj_lat', 'uj_lon']].round(5)  # Extra safeguard\n",
    "\n",
    "# Perform an inner merge to check if there is any overlap\n",
    "df_overlap = df_csv2.merge(df_csv1_unique, on=['uj_lat', 'uj_lon'], how='inner')\n",
    "\n",
    "if not df_overlap.empty:\n",
    "    print(f\"❌ Error: CSV2 contains {len(df_overlap)} uj points that are also in CSV1. These should have been excluded.\")\n",
    "    print(\"Duplicated coordinates:\")\n",
    "    print(df_overlap[['uj_lat', 'uj_lon']].drop_duplicates())\n",
    "else:\n",
    "    print(\"✅ Passed: CSV2 does not contain any uj points from CSV1. The split is correct.\")"
   ]
  },
  {
   "cell_type": "code",
   "execution_count": 43,
   "id": "4a40f956",
   "metadata": {},
   "outputs": [],
   "source": [
    "# Train/test split\n",
    "\n",
    "from sklearn.model_selection import train_test_split\n",
    "df_csv1_train, df_csv1_test = train_test_split(df_csv1_grouped, test_size=0.1, random_state=42)\n",
    "df_csv1_train.to_csv(\"CSV1_train.csv\", index=False)\n",
    "df_csv1_test.to_csv(\"CSV1_test.csv\", index=False)"
   ]
  },
  {
   "cell_type": "code",
   "execution_count": 48,
   "id": "7b09db22",
   "metadata": {},
   "outputs": [],
   "source": [
    "\n",
    "df_proj = pd.read_csv(\"projection_matrix_total.csv\")\n",
    "\n",
    "df_test_coords = df_csv1_test[['uj_lat', 'uj_lon']].drop_duplicates()\n",
    "\n",
    "df_proj_test = df_proj.merge(df_test_coords, on=['uj_lat', 'uj_lon'], how='inner')\n",
    "\n",
    "df_proj_train = df_proj.merge(df_test_coords, on=['uj_lat', 'uj_lon'], how='outer', indicator=True)\n",
    "df_proj_train = df_proj_train[df_proj_train['_merge'] == 'left_only'].drop(columns=['_merge'])\n",
    "\n",
    "df_proj_train.to_csv(\"projection_matrix_train.csv\", index=False)\n",
    "df_proj_test.to_csv(\"projection_matrix_test.csv\", index=False)\n"
   ]
  },
  {
   "cell_type": "code",
   "execution_count": 49,
   "id": "4f801053",
   "metadata": {},
   "outputs": [
    {
     "data": {
      "text/plain": [
       "85"
      ]
     },
     "execution_count": 49,
     "metadata": {},
     "output_type": "execute_result"
    }
   ],
   "source": [
    "len(df_csv1_test)"
   ]
  },
  {
   "cell_type": "code",
   "execution_count": 50,
   "id": "407d5db3",
   "metadata": {},
   "outputs": [
    {
     "data": {
      "text/plain": [
       "85"
      ]
     },
     "execution_count": 50,
     "metadata": {},
     "output_type": "execute_result"
    }
   ],
   "source": [
    "len(df_proj_test)"
   ]
  },
  {
   "cell_type": "code",
   "execution_count": null,
   "id": "740ca7a6",
   "metadata": {},
   "outputs": [],
   "source": []
  }
 ],
 "metadata": {
  "kernelspec": {
   "display_name": "Python 3 (ipykernel)",
   "language": "python",
   "name": "python3"
  },
  "language_info": {
   "codemirror_mode": {
    "name": "ipython",
    "version": 3
   },
   "file_extension": ".py",
   "mimetype": "text/x-python",
   "name": "python",
   "nbconvert_exporter": "python",
   "pygments_lexer": "ipython3",
   "version": "3.11.0"
  }
 },
 "nbformat": 4,
 "nbformat_minor": 5
}
