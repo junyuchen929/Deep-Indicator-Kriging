{
 "cells": [
  {
   "cell_type": "code",
   "execution_count": 1,
   "id": "f8779ba8",
   "metadata": {},
   "outputs": [],
   "source": [
    "import pandas as pd"
   ]
  },
  {
   "cell_type": "code",
   "execution_count": 2,
   "id": "cbcd29f5",
   "metadata": {},
   "outputs": [
    {
     "name": "stderr",
     "output_type": "stream",
     "text": [
      "/var/folders/9n/7bxqt9q92tl6lchpfwnymvjh0000gn/T/ipykernel_5704/256820174.py:2: DtypeWarning: Columns (13) have mixed types. Specify dtype option on import or set low_memory=False.\n",
      "  df = pd.read_csv(\"Gold.csv\",sep = \",\")\n"
     ]
    }
   ],
   "source": [
    "# Gold\n",
    "df = pd.read_csv(\"Gold.csv\",sep = \",\")\n",
    "df['Date Local'] = pd.to_datetime(df['Date Local'], errors='coerce')\n",
    "df_jan = df[(df['Date Local'] >= '2019-01-01') & (df['Date Local'] <= '2019-01-31')]\n",
    "df_jan = df_jan[['Latitude', 'Longitude', 'AQI']]\n",
    "df_avg = df_jan.groupby(['Latitude', 'Longitude'], as_index=False).mean()\n",
    "df_avg.to_csv(\"Gold_clean.csv\", index=False)"
   ]
  },
  {
   "cell_type": "code",
   "execution_count": 3,
   "id": "31ea6814",
   "metadata": {},
   "outputs": [
    {
     "name": "stderr",
     "output_type": "stream",
     "text": [
      "/var/folders/9n/7bxqt9q92tl6lchpfwnymvjh0000gn/T/ipykernel_5704/3912202928.py:2: DtypeWarning: Columns (2,3,4,5,7,8,9,10,11,12,13,14,15,16,17,18,19,20,21,22,23,24,25) have mixed types. Specify dtype option on import or set low_memory=False.\n",
      "  df3 = pd.read_csv(\"CMAQ.csv\", skiprows=2)\n"
     ]
    }
   ],
   "source": [
    "#CMAQ\n",
    "df3 = pd.read_csv(\"CMAQ.csv\", skiprows=2)\n",
    "df3 = df3.iloc[1:]\n",
    "df4 = df3[['latitude', 'longitude', 'PM25_AVG']].copy()\n",
    "df4['latitude'] = pd.to_numeric(df4['latitude'], errors='coerce').round(6)\n",
    "df4['longitude'] = pd.to_numeric(df4['longitude'], errors='coerce').round(6)\n",
    "df4['PM25_AVG'] = pd.to_numeric(df4['PM25_AVG'], errors='coerce')\n",
    "df_avg2 = df4.groupby(['latitude', 'longitude'], as_index=False).mean()\n",
    "df_avg2.to_csv(\"CMAQ_clean.csv\", index=False)"
   ]
  },
  {
   "cell_type": "code",
   "execution_count": 4,
   "id": "ac3ab144",
   "metadata": {},
   "outputs": [],
   "source": [
    "import pandas as pd\n",
    "import numpy as np\n",
    "from sklearn.neighbors import NearestNeighbors\n",
    "\n",
    "# Get CVS1: \n",
    "# This is U2 Part (about 1000 data) si, Z1 and closest uj and Z2\n",
    "df_gold = pd.read_csv(\"Gold_clean.csv\")   # Gold: Latitude, Longitude, AQI\n",
    "df_cmaq = pd.read_csv(\"CMAQ_clean.csv\")   # CMAQ: latitude, longitude, PM25_AVG\n",
    "\n",
    "df_gold = df_gold.rename(columns={'Latitude': 'si_lat', 'Longitude': 'si_lon', 'AQI': 'Z1'})\n",
    "df_cmaq = df_cmaq.rename(columns={'latitude': 'uj_lat', 'longitude': 'uj_lon', 'PM25_AVG': 'Z2'})\n",
    "\n",
    "X_gold = df_gold[['si_lat', 'si_lon']].to_numpy()\n",
    "X_cmaq = df_cmaq[['uj_lat', 'uj_lon']].to_numpy()\n",
    "\n",
    "nbrs = NearestNeighbors(n_neighbors=1, algorithm='ball_tree')\n",
    "nbrs.fit(X_cmaq)\n",
    "\n",
    "distances, indices = nbrs.kneighbors(X_gold)\n",
    "\n",
    "nearest_cmaq = df_cmaq.iloc[indices.flatten()].reset_index(drop=True)\n",
    "\n",
    "df_gold_reset = df_gold.reset_index(drop=True)\n",
    "df_matched = pd.concat([df_gold_reset, nearest_cmaq], axis=1)\n",
    "\n",
    "df_csv1 = df_matched[['si_lat', 'si_lon', 'uj_lat', 'uj_lon', 'Z1', 'Z2']]\n",
    "\n",
    "df_csv1.to_csv(\"CSV1.csv\", index=False)"
   ]
  },
  {
   "cell_type": "code",
   "execution_count": 5,
   "id": "0ec0f486",
   "metadata": {},
   "outputs": [],
   "source": [
    "# U1/U2: uj, Z2 that are not in U2\n",
    "\n",
    "df_cmaq = pd.read_csv(\"CMAQ_clean.csv\")\n",
    "df_cmaq = df_cmaq.rename(columns={'latitude': 'uj_lat', 'longitude': 'uj_lon', 'PM25_AVG': 'Z2'})\n",
    "\n",
    "df_csv1 = pd.read_csv(\"CSV1.csv\")  \n",
    "\n",
    "# get ujs that are not in U2\n",
    "df_cmaq_unique = df_cmaq.drop_duplicates(subset=['uj_lat', 'uj_lon']) \n",
    "\n",
    "df_unmatched = df_cmaq_unique.merge(\n",
    "    df_csv1[['uj_lat', 'uj_lon']],\n",
    "    on=['uj_lat', 'uj_lon'],\n",
    "    how='left',\n",
    "    indicator=True\n",
    ")\n",
    "\n",
    "df_unmatched = df_unmatched[df_unmatched['_merge'] == 'left_only'].drop(columns=['_merge'])\n",
    "\n",
    "df_unmatched.to_csv(\"CSV2.csv\", index=False)"
   ]
  },
  {
   "cell_type": "code",
   "execution_count": 6,
   "id": "4a40f956",
   "metadata": {},
   "outputs": [],
   "source": [
    "from sklearn.model_selection import train_test_split\n",
    "df_csv1_train, df_csv1_test = train_test_split(df_csv1, test_size=0.1, random_state=42)\n",
    "df_csv1_train.to_csv(\"CSV1_train.csv\", index=False)\n",
    "df_csv1_test.to_csv(\"CSV1_test.csv\", index=False)"
   ]
  },
  {
   "cell_type": "code",
   "execution_count": null,
   "id": "95f1e2a1",
   "metadata": {},
   "outputs": [],
   "source": []
  }
 ],
 "metadata": {
  "kernelspec": {
   "display_name": "Python 3 (ipykernel)",
   "language": "python",
   "name": "python3"
  },
  "language_info": {
   "codemirror_mode": {
    "name": "ipython",
    "version": 3
   },
   "file_extension": ".py",
   "mimetype": "text/x-python",
   "name": "python",
   "nbconvert_exporter": "python",
   "pygments_lexer": "ipython3",
   "version": "3.11.0"
  }
 },
 "nbformat": 4,
 "nbformat_minor": 5
}
